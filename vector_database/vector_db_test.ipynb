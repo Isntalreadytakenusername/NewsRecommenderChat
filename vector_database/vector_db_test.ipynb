{
 "cells": [
  {
   "cell_type": "code",
   "execution_count": 1,
   "metadata": {},
   "outputs": [],
   "source": [
    "import chromadb\n",
    "import pandas as pd"
   ]
  },
  {
   "cell_type": "code",
   "execution_count": 2,
   "metadata": {},
   "outputs": [
    {
     "data": {
      "text/html": [
       "<div>\n",
       "<style scoped>\n",
       "    .dataframe tbody tr th:only-of-type {\n",
       "        vertical-align: middle;\n",
       "    }\n",
       "\n",
       "    .dataframe tbody tr th {\n",
       "        vertical-align: top;\n",
       "    }\n",
       "\n",
       "    .dataframe thead th {\n",
       "        text-align: right;\n",
       "    }\n",
       "</style>\n",
       "<table border=\"1\" class=\"dataframe\">\n",
       "  <thead>\n",
       "    <tr style=\"text-align: right;\">\n",
       "      <th></th>\n",
       "      <th>title</th>\n",
       "      <th>link</th>\n",
       "      <th>domain</th>\n",
       "      <th>published</th>\n",
       "      <th>summary</th>\n",
       "    </tr>\n",
       "  </thead>\n",
       "  <tbody>\n",
       "    <tr>\n",
       "      <th>0</th>\n",
       "      <td>Sugar in India, Fueled by Child Marriage and H...</td>\n",
       "      <td>https://www.nytimes.com/2024/03/24/world/europ...</td>\n",
       "      <td>www.nytimes.com</td>\n",
       "      <td>Sun, 24 Mar 2024 12:08:58 +0000</td>\n",
       "      <td>An investigation into the sugar-cane industry ...</td>\n",
       "    </tr>\n",
       "    <tr>\n",
       "      <th>1</th>\n",
       "      <td>Senegal Votes in an Election That Almost Didn’...</td>\n",
       "      <td>https://www.nytimes.com/2024/03/24/world/afric...</td>\n",
       "      <td>www.nytimes.com</td>\n",
       "      <td>Sun, 24 Mar 2024 12:03:16 +0000</td>\n",
       "      <td>The top opposition politician, Ousmane Sonko, ...</td>\n",
       "    </tr>\n",
       "    <tr>\n",
       "      <th>2</th>\n",
       "      <td>Russia’s Battle With Extremists Has Simmered f...</td>\n",
       "      <td>https://www.nytimes.com/2024/03/24/world/europ...</td>\n",
       "      <td>www.nytimes.com</td>\n",
       "      <td>Sun, 24 Mar 2024 11:03:40 +0000</td>\n",
       "      <td>The Islamic State has long threatened to strik...</td>\n",
       "    </tr>\n",
       "    <tr>\n",
       "      <th>3</th>\n",
       "      <td>In Hezbollah’s Sights, a Stretch of Northern I...</td>\n",
       "      <td>https://www.nytimes.com/2024/03/24/world/middl...</td>\n",
       "      <td>www.nytimes.com</td>\n",
       "      <td>Sun, 24 Mar 2024 09:01:10 +0000</td>\n",
       "      <td>For the few Israelis remaining in the evacuate...</td>\n",
       "    </tr>\n",
       "    <tr>\n",
       "      <th>4</th>\n",
       "      <td>Inside the Battle for a Bunker in Avdiivka, Uk...</td>\n",
       "      <td>https://www.nytimes.com/2024/03/24/world/europ...</td>\n",
       "      <td>www.nytimes.com</td>\n",
       "      <td>Sun, 24 Mar 2024 04:01:10 +0000</td>\n",
       "      <td>A struggle for a position held by Ukrainian fo...</td>\n",
       "    </tr>\n",
       "  </tbody>\n",
       "</table>\n",
       "</div>"
      ],
      "text/plain": [
       "                                               title  \\\n",
       "0  Sugar in India, Fueled by Child Marriage and H...   \n",
       "1  Senegal Votes in an Election That Almost Didn’...   \n",
       "2  Russia’s Battle With Extremists Has Simmered f...   \n",
       "3  In Hezbollah’s Sights, a Stretch of Northern I...   \n",
       "4  Inside the Battle for a Bunker in Avdiivka, Uk...   \n",
       "\n",
       "                                                link           domain  \\\n",
       "0  https://www.nytimes.com/2024/03/24/world/europ...  www.nytimes.com   \n",
       "1  https://www.nytimes.com/2024/03/24/world/afric...  www.nytimes.com   \n",
       "2  https://www.nytimes.com/2024/03/24/world/europ...  www.nytimes.com   \n",
       "3  https://www.nytimes.com/2024/03/24/world/middl...  www.nytimes.com   \n",
       "4  https://www.nytimes.com/2024/03/24/world/europ...  www.nytimes.com   \n",
       "\n",
       "                         published  \\\n",
       "0  Sun, 24 Mar 2024 12:08:58 +0000   \n",
       "1  Sun, 24 Mar 2024 12:03:16 +0000   \n",
       "2  Sun, 24 Mar 2024 11:03:40 +0000   \n",
       "3  Sun, 24 Mar 2024 09:01:10 +0000   \n",
       "4  Sun, 24 Mar 2024 04:01:10 +0000   \n",
       "\n",
       "                                             summary  \n",
       "0  An investigation into the sugar-cane industry ...  \n",
       "1  The top opposition politician, Ousmane Sonko, ...  \n",
       "2  The Islamic State has long threatened to strik...  \n",
       "3  For the few Israelis remaining in the evacuate...  \n",
       "4  A struggle for a position held by Ukrainian fo...  "
      ]
     },
     "execution_count": 2,
     "metadata": {},
     "output_type": "execute_result"
    }
   ],
   "source": [
    "news = pd.read_csv(\"rss_feed_data.csv\")\n",
    "news.head()"
   ]
  },
  {
   "cell_type": "code",
   "execution_count": 3,
   "metadata": {},
   "outputs": [
    {
     "data": {
      "text/plain": [
       "<chromadb.api.client.Client at 0x21de4474430>"
      ]
     },
     "execution_count": 3,
     "metadata": {},
     "output_type": "execute_result"
    }
   ],
   "source": [
    "client = chromadb.PersistentClient(path=\"storage\")\n",
    "client"
   ]
  },
  {
   "cell_type": "code",
   "execution_count": 4,
   "metadata": {},
   "outputs": [],
   "source": [
    "collection = client.create_collection(name=\"rss_news\")"
   ]
  },
  {
   "cell_type": "markdown",
   "metadata": {},
   "source": [
    "- it automatically handles embedding with a relatively simple model, that may be enough for my small text chunks\n",
    "- for each query a separate list is generated for ids, metadatas, distances and documents itself.\n",
    "- if I do one query it is a list within list always, consider this."
   ]
  },
  {
   "cell_type": "code",
   "execution_count": 5,
   "metadata": {},
   "outputs": [
    {
     "name": "stderr",
     "output_type": "stream",
     "text": [
      "C:\\Users\\vlady\\.cache\\chroma\\onnx_models\\all-MiniLM-L6-v2\\onnx.tar.gz: 100%|██████████| 79.3M/79.3M [00:07<00:00, 10.7MiB/s]\n"
     ]
    }
   ],
   "source": [
    "collection.add(documents=news.apply(lambda row: str(row['title']) + ' ' + str(row['summary']), axis=1).tolist(),\n",
    "               metadatas=news[['link', 'domain', 'published']].to_dict(orient='records'),\n",
    "               ids=news.apply(lambda row: str(row['link']), axis=1).tolist())"
   ]
  },
  {
   "cell_type": "code",
   "execution_count": 27,
   "metadata": {},
   "outputs": [
    {
     "data": {
      "text/plain": [
       "{'ids': [['https://www.nytimes.com/2024/03/23/world/europe/ukraine-russia-moscow-attack.html',\n",
       "   'https://www.nytimes.com/2024/03/23/world/europe/moscow-attack-putin.html',\n",
       "   'https://www.nytimes.com/2024/03/24/world/europe/russia-extremism-isis-syria.html'],\n",
       "  ['https://www.nytimes.com/2024/03/24/business/china-development-forum-economy.html',\n",
       "   'https://www.nytimes.com/2024/03/22/technology/china-ai-talent.html',\n",
       "   'https://www.nytimes.com/2024/03/22/world/middleeast/israel-gaza-security-council-veto.html']],\n",
       " 'distances': [[0.960934042930603, 0.972374677658081, 1.0162230730056763],\n",
       "  [1.1636111736297607, 1.2395870016028705, 1.2690579891204834]],\n",
       " 'metadatas': [[{'domain': 'www.nytimes.com',\n",
       "    'link': 'https://www.nytimes.com/2024/03/23/world/europe/ukraine-russia-moscow-attack.html',\n",
       "    'published': 'Sat, 23 Mar 2024 20:08:27 +0000'},\n",
       "   {'domain': 'www.nytimes.com',\n",
       "    'link': 'https://www.nytimes.com/2024/03/23/world/europe/moscow-attack-putin.html',\n",
       "    'published': 'Sat, 23 Mar 2024 13:58:43 +0000'},\n",
       "   {'domain': 'www.nytimes.com',\n",
       "    'link': 'https://www.nytimes.com/2024/03/24/world/europe/russia-extremism-isis-syria.html',\n",
       "    'published': 'Sun, 24 Mar 2024 11:03:40 +0000'}],\n",
       "  [{'domain': 'www.nytimes.com',\n",
       "    'link': 'https://www.nytimes.com/2024/03/24/business/china-development-forum-economy.html',\n",
       "    'published': 'Sun, 24 Mar 2024 07:42:38 +0000'},\n",
       "   {'domain': 'www.nytimes.com',\n",
       "    'link': 'https://www.nytimes.com/2024/03/22/technology/china-ai-talent.html',\n",
       "    'published': 'Fri, 22 Mar 2024 04:00:35 +0000'},\n",
       "   {'domain': 'www.nytimes.com',\n",
       "    'link': 'https://www.nytimes.com/2024/03/22/world/middleeast/israel-gaza-security-council-veto.html',\n",
       "    'published': 'Fri, 22 Mar 2024 22:34:44 +0000'}]],\n",
       " 'embeddings': None,\n",
       " 'documents': [['Ukraine Rejects Russian Speculation That It Had Role in Attack Kyiv has accused Russia of falsely suggesting it was to blame for the terrorist attack in Moscow and of using the assault to escalate the fighting in Ukraine.',\n",
       "   'Putin Tries to Link Moscow Concert Hall Attack to Ukraine American officials, who have assessed that a branch of the Islamic State was responsible, have voiced concern that the Russian leader could seek to falsely blame Ukraine.',\n",
       "   'Russia’s Battle With Extremists Has Simmered for Years The Islamic State has long threatened to strike Russia for helping the Syrian president, Bashar al-Assad, stay in control.'],\n",
       "  ['China’s Plan to Spur Growth: A New Slogan for Building Factories As China’s leaders promote their strategy, other countries worry about manufacturing overcapacity and plans for more exports.',\n",
       "   'In One Key A.I. Metric, China Pulls Ahead of the U.S.: Talent China has produced a huge number of top A.I. engineers in recent years. New research shows that, by some measures, it has already eclipsed the United States.',\n",
       "   'U.S. Call for Gaza Cease-Fire Runs Into Russia-China Veto The American draft resolution before the Security Council did not go far enough to end the Israel-Hamas war, Russia and China said, after the United States had vetoed three earlier resolutions.']],\n",
       " 'uris': None,\n",
       " 'data': None}"
      ]
     },
     "execution_count": 27,
     "metadata": {},
     "output_type": "execute_result"
    }
   ],
   "source": [
    "results = collection.query(\n",
    "    query_texts=[\"Relations between Russia and Ukraine\", \"China and US trade war\"],\n",
    "    n_results=3\n",
    ")\n",
    "results"
   ]
  },
  {
   "cell_type": "code",
   "execution_count": 20,
   "metadata": {},
   "outputs": [
    {
     "name": "stdout",
     "output_type": "stream",
     "text": [
      "From Russia, Elaborate Tales of Fake Journalists As the Ukraine war grinds on, the Kremlin has created increasingly complex fabrications online to discredit Ukraine’s leader and undercut aid. Some have a Hollywood-style plot twist.\\n\n",
      "Here’s the latest on the attack in Russia. nan\\n\n",
      "Russian Attack Leaves Over a Million in Ukraine Without Electricity Power plants and a major hydroelectric dam were damaged in what Ukrainian officials said was one of the war’s largest assaults on energy infrastructure.\\n\n"
     ]
    },
    {
     "data": {
      "text/plain": [
       "[None, None, None]"
      ]
     },
     "execution_count": 20,
     "metadata": {},
     "output_type": "execute_result"
    }
   ],
   "source": [
    "[print(document + r'\\n') for document in results['documents'][0]]"
   ]
  },
  {
   "cell_type": "code",
   "execution_count": 28,
   "metadata": {},
   "outputs": [
    {
     "data": {
      "text/plain": [
       "['Ukraine Rejects Russian Speculation That It Had Role in Attack Kyiv has accused Russia of falsely suggesting it was to blame for the terrorist attack in Moscow and of using the assault to escalate the fighting in Ukraine.',\n",
       " 'Putin Tries to Link Moscow Concert Hall Attack to Ukraine American officials, who have assessed that a branch of the Islamic State was responsible, have voiced concern that the Russian leader could seek to falsely blame Ukraine.',\n",
       " 'Russia’s Battle With Extremists Has Simmered for Years The Islamic State has long threatened to strike Russia for helping the Syrian president, Bashar al-Assad, stay in control.']"
      ]
     },
     "execution_count": 28,
     "metadata": {},
     "output_type": "execute_result"
    }
   ],
   "source": [
    "results['documents'][0]"
   ]
  },
  {
   "cell_type": "code",
   "execution_count": 29,
   "metadata": {},
   "outputs": [
    {
     "data": {
      "text/plain": [
       "['China’s Plan to Spur Growth: A New Slogan for Building Factories As China’s leaders promote their strategy, other countries worry about manufacturing overcapacity and plans for more exports.',\n",
       " 'In One Key A.I. Metric, China Pulls Ahead of the U.S.: Talent China has produced a huge number of top A.I. engineers in recent years. New research shows that, by some measures, it has already eclipsed the United States.',\n",
       " 'U.S. Call for Gaza Cease-Fire Runs Into Russia-China Veto The American draft resolution before the Security Council did not go far enough to end the Israel-Hamas war, Russia and China said, after the United States had vetoed three earlier resolutions.']"
      ]
     },
     "execution_count": 29,
     "metadata": {},
     "output_type": "execute_result"
    }
   ],
   "source": [
    "results['documents'][1]"
   ]
  },
  {
   "cell_type": "markdown",
   "metadata": {},
   "source": [
    "## Testing OOP implementation\n",
    "\n",
    "- I can pass news df directly out of the NewsRetriever without saving them.\n",
    "- Add later management to delete the old news from vector db directly."
   ]
  },
  {
   "cell_type": "code",
   "execution_count": 2,
   "metadata": {},
   "outputs": [],
   "source": [
    "from NewsVectorStorage import NewsVectorStorage\n",
    "import pandas as pd\n",
    "\n",
    "news = pd.read_csv(\"rss_feed_data.csv\")\n",
    "news_vector_storage = NewsVectorStorage(news_dataframe=news)"
   ]
  },
  {
   "cell_type": "code",
   "execution_count": 3,
   "metadata": {},
   "outputs": [],
   "source": [
    "news_vector_storage.load_news()"
   ]
  },
  {
   "cell_type": "code",
   "execution_count": null,
   "metadata": {},
   "outputs": [],
   "source": []
  }
 ],
 "metadata": {
  "kernelspec": {
   "display_name": "news_recommender",
   "language": "python",
   "name": "python3"
  },
  "language_info": {
   "codemirror_mode": {
    "name": "ipython",
    "version": 3
   },
   "file_extension": ".py",
   "mimetype": "text/x-python",
   "name": "python",
   "nbconvert_exporter": "python",
   "pygments_lexer": "ipython3",
   "version": "3.9.19"
  }
 },
 "nbformat": 4,
 "nbformat_minor": 2
}
