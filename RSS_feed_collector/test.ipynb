{
 "cells": [
  {
   "cell_type": "code",
   "execution_count": null,
   "metadata": {},
   "outputs": [],
   "source": []
  },
  {
   "cell_type": "code",
   "execution_count": 1,
   "metadata": {},
   "outputs": [],
   "source": [
    "import feedparser\n",
    "import pandas as pd\n",
    "\n",
    "# List of RSS feed URLs\n",
    "feeds_urls = [\n",
    "    'https://rss.nytimes.com/services/xml/rss/nyt/World.xml',\n",
    "    'https://rss.nytimes.com/services/xml/rss/nyt/US.xml',\n",
    "    'https://rss.nytimes.com/services/xml/rss/nyt/Business.xml',\n",
    "    'https://rss.nytimes.com/services/xml/rss/nyt/Technology.xml',\n",
    "    'https://rss.nytimes.com/services/xml/rss/nyt/Science.xml',\n",
    "    'https://rss.nytimes.com/services/xml/rss/nyt/Health.xml'\n",
    "]\n",
    "\n",
    "\n"
   ]
  },
  {
   "cell_type": "code",
   "execution_count": 2,
   "metadata": {},
   "outputs": [
    {
     "name": "stdout",
     "output_type": "stream",
     "text": [
      "Retrieving news from https://rss.nytimes.com/services/xml/rss/nyt/World.xml...\n",
      "Retrieving news from https://rss.nytimes.com/services/xml/rss/nyt/US.xml...\n",
      "Retrieving news from https://rss.nytimes.com/services/xml/rss/nyt/Business.xml...\n",
      "Retrieving news from https://rss.nytimes.com/services/xml/rss/nyt/Technology.xml...\n",
      "Retrieving news from https://rss.nytimes.com/services/xml/rss/nyt/Science.xml...\n",
      "Retrieving news from https://rss.nytimes.com/services/xml/rss/nyt/Health.xml...\n"
     ]
    }
   ],
   "source": [
    "from NewsRetriever import NewsRetriever\n",
    "news_retriever = NewsRetriever(feeds_urls, \"rss_feed_data.csv\")\n",
    "news_retriever.retrieve_news()"
   ]
  },
  {
   "cell_type": "code",
   "execution_count": 3,
   "metadata": {},
   "outputs": [
    {
     "data": {
      "text/html": [
       "<div>\n",
       "<style scoped>\n",
       "    .dataframe tbody tr th:only-of-type {\n",
       "        vertical-align: middle;\n",
       "    }\n",
       "\n",
       "    .dataframe tbody tr th {\n",
       "        vertical-align: top;\n",
       "    }\n",
       "\n",
       "    .dataframe thead th {\n",
       "        text-align: right;\n",
       "    }\n",
       "</style>\n",
       "<table border=\"1\" class=\"dataframe\">\n",
       "  <thead>\n",
       "    <tr style=\"text-align: right;\">\n",
       "      <th></th>\n",
       "      <th>title</th>\n",
       "      <th>link</th>\n",
       "      <th>domain</th>\n",
       "      <th>published</th>\n",
       "      <th>summary</th>\n",
       "    </tr>\n",
       "  </thead>\n",
       "  <tbody>\n",
       "    <tr>\n",
       "      <th>0</th>\n",
       "      <td>Sugar in India, Fueled by Child Marriage and H...</td>\n",
       "      <td>https://www.nytimes.com/2024/03/24/world/europ...</td>\n",
       "      <td>www.nytimes.com</td>\n",
       "      <td>Sun, 24 Mar 2024 12:08:58 +0000</td>\n",
       "      <td>An investigation into the sugar-cane industry ...</td>\n",
       "    </tr>\n",
       "    <tr>\n",
       "      <th>1</th>\n",
       "      <td>Senegal Votes in an Election That Almost Didn’...</td>\n",
       "      <td>https://www.nytimes.com/2024/03/24/world/afric...</td>\n",
       "      <td>www.nytimes.com</td>\n",
       "      <td>Sun, 24 Mar 2024 12:03:16 +0000</td>\n",
       "      <td>The top opposition politician, Ousmane Sonko, ...</td>\n",
       "    </tr>\n",
       "    <tr>\n",
       "      <th>2</th>\n",
       "      <td>Russia’s Battle With Extremists Has Simmered f...</td>\n",
       "      <td>https://www.nytimes.com/2024/03/24/world/europ...</td>\n",
       "      <td>www.nytimes.com</td>\n",
       "      <td>Sun, 24 Mar 2024 11:03:40 +0000</td>\n",
       "      <td>The Islamic State has long threatened to strik...</td>\n",
       "    </tr>\n",
       "    <tr>\n",
       "      <th>3</th>\n",
       "      <td>In Hezbollah’s Sights, a Stretch of Northern I...</td>\n",
       "      <td>https://www.nytimes.com/2024/03/24/world/middl...</td>\n",
       "      <td>www.nytimes.com</td>\n",
       "      <td>Sun, 24 Mar 2024 09:01:10 +0000</td>\n",
       "      <td>For the few Israelis remaining in the evacuate...</td>\n",
       "    </tr>\n",
       "    <tr>\n",
       "      <th>4</th>\n",
       "      <td>Inside the Battle for a Bunker in Avdiivka, Uk...</td>\n",
       "      <td>https://www.nytimes.com/2024/03/24/world/europ...</td>\n",
       "      <td>www.nytimes.com</td>\n",
       "      <td>Sun, 24 Mar 2024 04:01:10 +0000</td>\n",
       "      <td>A struggle for a position held by Ukrainian fo...</td>\n",
       "    </tr>\n",
       "  </tbody>\n",
       "</table>\n",
       "</div>"
      ],
      "text/plain": [
       "                                               title  \\\n",
       "0  Sugar in India, Fueled by Child Marriage and H...   \n",
       "1  Senegal Votes in an Election That Almost Didn’...   \n",
       "2  Russia’s Battle With Extremists Has Simmered f...   \n",
       "3  In Hezbollah’s Sights, a Stretch of Northern I...   \n",
       "4  Inside the Battle for a Bunker in Avdiivka, Uk...   \n",
       "\n",
       "                                                link           domain  \\\n",
       "0  https://www.nytimes.com/2024/03/24/world/europ...  www.nytimes.com   \n",
       "1  https://www.nytimes.com/2024/03/24/world/afric...  www.nytimes.com   \n",
       "2  https://www.nytimes.com/2024/03/24/world/europ...  www.nytimes.com   \n",
       "3  https://www.nytimes.com/2024/03/24/world/middl...  www.nytimes.com   \n",
       "4  https://www.nytimes.com/2024/03/24/world/europ...  www.nytimes.com   \n",
       "\n",
       "                         published  \\\n",
       "0  Sun, 24 Mar 2024 12:08:58 +0000   \n",
       "1  Sun, 24 Mar 2024 12:03:16 +0000   \n",
       "2  Sun, 24 Mar 2024 11:03:40 +0000   \n",
       "3  Sun, 24 Mar 2024 09:01:10 +0000   \n",
       "4  Sun, 24 Mar 2024 04:01:10 +0000   \n",
       "\n",
       "                                             summary  \n",
       "0  An investigation into the sugar-cane industry ...  \n",
       "1  The top opposition politician, Ousmane Sonko, ...  \n",
       "2  The Islamic State has long threatened to strik...  \n",
       "3  For the few Israelis remaining in the evacuate...  \n",
       "4  A struggle for a position held by Ukrainian fo...  "
      ]
     },
     "execution_count": 3,
     "metadata": {},
     "output_type": "execute_result"
    }
   ],
   "source": [
    "# read rss_feed_data.csv\n",
    "df = pd.read_csv(\"rss_feed_data.csv\")\n",
    "df.head()"
   ]
  },
  {
   "cell_type": "code",
   "execution_count": 4,
   "metadata": {},
   "outputs": [
    {
     "data": {
      "text/plain": [
       "189"
      ]
     },
     "execution_count": 4,
     "metadata": {},
     "output_type": "execute_result"
    }
   ],
   "source": [
    "len(df)"
   ]
  },
  {
   "cell_type": "code",
   "execution_count": 5,
   "metadata": {},
   "outputs": [
    {
     "data": {
      "text/plain": [
       "31"
      ]
     },
     "execution_count": 5,
     "metadata": {},
     "output_type": "execute_result"
    }
   ],
   "source": [
    "row = -1\n",
    "len((df.iloc[row,0] + df.iloc[row,-1]).split(\" \"))"
   ]
  },
  {
   "cell_type": "code",
   "execution_count": null,
   "metadata": {},
   "outputs": [],
   "source": []
  }
 ],
 "metadata": {
  "kernelspec": {
   "display_name": "news_recommender",
   "language": "python",
   "name": "python3"
  },
  "language_info": {
   "codemirror_mode": {
    "name": "ipython",
    "version": 3
   },
   "file_extension": ".py",
   "mimetype": "text/x-python",
   "name": "python",
   "nbconvert_exporter": "python",
   "pygments_lexer": "ipython3",
   "version": "3.9.19"
  }
 },
 "nbformat": 4,
 "nbformat_minor": 2
}
